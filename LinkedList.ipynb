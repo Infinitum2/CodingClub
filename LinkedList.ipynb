{
  "nbformat": 4,
  "nbformat_minor": 0,
  "metadata": {
    "colab": {
      "provenance": [],
      "authorship_tag": "ABX9TyNWlExYSEZr+Qw6Id3owqw1",
      "include_colab_link": true
    },
    "kernelspec": {
      "name": "python3",
      "display_name": "Python 3"
    },
    "language_info": {
      "name": "python"
    }
  },
  "cells": [
    {
      "cell_type": "markdown",
      "metadata": {
        "id": "view-in-github",
        "colab_type": "text"
      },
      "source": [
        "<a href=\"https://colab.research.google.com/github/Infinitum2/CodingClub/blob/main/LinkedList.ipynb\" target=\"_parent\"><img src=\"https://colab.research.google.com/assets/colab-badge.svg\" alt=\"Open In Colab\"/></a>"
      ]
    },
    {
      "cell_type": "code",
      "execution_count": 1,
      "metadata": {
        "colab": {
          "base_uri": "https://localhost:8080/"
        },
        "id": "mVXI6Vs2Qlm5",
        "outputId": "6adc1634-ec0d-41fe-8fb1-da290f47bf15"
      },
      "outputs": [
        {
          "output_type": "stream",
          "name": "stdout",
          "text": [
            "a\n",
            "a\n",
            "b\n"
          ]
        }
      ],
      "source": [
        "class ListNode:\n",
        "   def __init__(self, val=0, next=None):\n",
        "    self.val = val\n",
        "    self.next = next\n",
        "var = ListNode(\"a\")\n",
        "var.next = ListNode(\"b\")\n",
        "print(var.val)\n",
        "current = var\n",
        "while current != None:\n",
        "  print(current.val)\n",
        "  current = current.next"
      ]
    }
  ]
}